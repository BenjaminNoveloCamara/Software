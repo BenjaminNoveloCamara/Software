{
 "cells": [
  {
   "cell_type": "markdown",
   "id": "e510ccb0-d937-4323-8340-f1340d11c246",
   "metadata": {},
   "source": [
    "# Gear Calculator Algorithm"
   ]
  },
  {
   "cell_type": "code",
   "execution_count": 12,
   "id": "b0821e9a-f854-4d3d-bd68-39a3e5c69d4c",
   "metadata": {},
   "outputs": [
    {
     "name": "stdout",
     "output_type": "stream",
     "text": [
      "Welcome to the gear calculation algorithm\n",
      "Provide the desired pitch diameter (in mm) for the new gear (DP)\n"
     ]
    },
    {
     "name": "stdin",
     "output_type": "stream",
     "text": [
      " 40\n"
     ]
    },
    {
     "name": "stdout",
     "output_type": "stream",
     "text": [
      "Provide the desired number of teeth for the new gear (Z)\n"
     ]
    },
    {
     "name": "stdin",
     "output_type": "stream",
     "text": [
      " 24\n"
     ]
    },
    {
     "name": "stdout",
     "output_type": "stream",
     "text": [
      "New pitch diameter-teeth ratio (M) in mm of the desired gear:\n",
      "1.6666666666666667\n",
      "New PC (in mm) of the desired gear:\n",
      "5.235983333333333\n",
      "New external diameter (DE) in mm of the desired gear:\n",
      "43.333333333333336\n",
      "New internal diameter (DI) in mm of the desired gear:\n",
      "35.833333333333336\n",
      "New S (in mm) of the desired gear:\n",
      "2.487092083333333\n",
      "New W (in mm) of the desired gear:\n",
      "2.7488912500000002\n",
      "New tooth foot (in mm) of the desired gear:\n",
      "2.0833333333333335\n",
      "New tooth height (in mm) of the desired gear:\n",
      "3.75\n"
     ]
    }
   ],
   "source": [
    "# Utilized libraries:\n",
    "\n",
    "import math\n",
    "\n",
    "# Utilized inputs:\n",
    "\n",
    "print(\"Welcome to the gear calculation algorithm\")\n",
    "print(\"Provide the desired pitch diameter (in mm) for the new gear (DP)\")\n",
    "DP = float(input())\n",
    "print(\"Provide the desired number of teeth for the new gear (Z)\")\n",
    "Z = float(input())\n",
    "NDP = DP\n",
    "NZ = Z\n",
    "\n",
    "# Internal Calculations:\n",
    "\n",
    "M = DP/Z\n",
    "pi = 3.14159\n",
    "PC = pi*M\n",
    "DE = DP + 2*M\n",
    "S = (PC*19)/DP\n",
    "W = (PC*21)/DP\n",
    "DI = DP - 2*(1.25*M)\n",
    "Pd = 1.25*M\n",
    "Ad = 2.25*M\n",
    "\n",
    "# Obtained outputs:\n",
    "\n",
    "print(\"New pitch diameter-teeth ratio (M) in mm of the desired gear:\")\n",
    "print(M)\n",
    "print(\"New PC (in mm) of the desired gear:\")\n",
    "print(PC)\n",
    "print(\"New external diameter (DE) in mm of the desired gear:\")\n",
    "print(DE)\n",
    "print(\"New internal diameter (DI) in mm of the desired gear:\")\n",
    "print(DI)\n",
    "print(\"New S (in mm) of the desired gear:\")\n",
    "print(S)\n",
    "print(\"New W (in mm) of the desired gear:\")\n",
    "print(W)\n",
    "print(\"New tooth foot (in mm) of the desired gear:\")\n",
    "print(Pd)\n",
    "print(\"New tooth height (in mm) of the desired gear:\")\n",
    "print(Ad)"
   ]
  },
  {
   "cell_type": "code",
   "execution_count": null,
   "id": "4d8e0717-34cb-4bb7-b6c9-5d23b066935e",
   "metadata": {},
   "outputs": [],
   "source": []
  }
 ],
 "metadata": {
  "kernelspec": {
   "display_name": "Python 3",
   "language": "python",
   "name": "python3"
  },
  "language_info": {
   "codemirror_mode": {
    "name": "ipython",
    "version": 3
   },
   "file_extension": ".py",
   "mimetype": "text/x-python",
   "name": "python",
   "nbconvert_exporter": "python",
   "pygments_lexer": "ipython3",
   "version": "3.9.4"
  }
 },
 "nbformat": 4,
 "nbformat_minor": 5
}
